{
 "cells": [
  {
   "cell_type": "markdown",
   "id": "56d438d7",
   "metadata": {},
   "source": [
    "# Numpy\n",
    "- Numpy is a numerical computing library for python.\n",
    "- Numpy support multi dimensional arrays and matrices\n",
    "- It has a lot of in-built mathematical functions"
   ]
  },
  {
   "cell_type": "code",
   "execution_count": 1,
   "id": "821cf4a5",
   "metadata": {},
   "outputs": [],
   "source": [
    "l=[[1,2],[3,4]]"
   ]
  },
  {
   "cell_type": "code",
   "execution_count": 2,
   "id": "214ad384",
   "metadata": {},
   "outputs": [
    {
     "name": "stdout",
     "output_type": "stream",
     "text": [
      "Requirement already satisfied: numpy in c:\\users\\asus\\anaconda3\\lib\\site-packages (1.24.3)\n"
     ]
    }
   ],
   "source": [
    "!pip install numpy"
   ]
  },
  {
   "cell_type": "code",
   "execution_count": 3,
   "id": "f5b41d05",
   "metadata": {},
   "outputs": [],
   "source": [
    "import numpy as np"
   ]
  },
  {
   "cell_type": "markdown",
   "id": "724fa580",
   "metadata": {},
   "source": [
    "# Why Numpy ?\n",
    "- performs fast operations (because of Vectorization)\n",
    "- numpy arrays can be treated as vectors and matrices from linear algebra\n"
   ]
  },
  {
   "cell_type": "code",
   "execution_count": 4,
   "id": "1acd868d",
   "metadata": {},
   "outputs": [],
   "source": [
    "lst = [1,2,9,4,5,6,7,8,9,10,11]"
   ]
  },
  {
   "cell_type": "code",
   "execution_count": 5,
   "id": "b08b188c",
   "metadata": {},
   "outputs": [
    {
     "data": {
      "text/plain": [
       "[1, 4, 81, 16, 25, 36, 49, 64, 81, 100, 121]"
      ]
     },
     "execution_count": 5,
     "metadata": {},
     "output_type": "execute_result"
    }
   ],
   "source": [
    "[x**2 for x in lst]"
   ]
  },
  {
   "cell_type": "code",
   "execution_count": 6,
   "id": "6cc0cdd2",
   "metadata": {},
   "outputs": [
    {
     "name": "stdout",
     "output_type": "stream",
     "text": [
      "1.47 µs ± 27.9 ns per loop (mean ± std. dev. of 7 runs, 1,000,000 loops each)\n"
     ]
    }
   ],
   "source": [
    "%timeit [x**2 for x in lst]"
   ]
  },
  {
   "cell_type": "code",
   "execution_count": 7,
   "id": "d0c264a3",
   "metadata": {},
   "outputs": [],
   "source": [
    "arr=np.array(lst)"
   ]
  },
  {
   "cell_type": "code",
   "execution_count": 8,
   "id": "7306d20e",
   "metadata": {},
   "outputs": [
    {
     "data": {
      "text/plain": [
       "array([ 1,  2,  9,  4,  5,  6,  7,  8,  9, 10, 11])"
      ]
     },
     "execution_count": 8,
     "metadata": {},
     "output_type": "execute_result"
    }
   ],
   "source": [
    "arr"
   ]
  },
  {
   "cell_type": "code",
   "execution_count": 9,
   "id": "68229017",
   "metadata": {},
   "outputs": [],
   "source": [
    "arr=arr**2"
   ]
  },
  {
   "cell_type": "code",
   "execution_count": 10,
   "id": "e7ee9811",
   "metadata": {},
   "outputs": [
    {
     "name": "stdout",
     "output_type": "stream",
     "text": [
      "960 ns ± 15 ns per loop (mean ± std. dev. of 7 runs, 1,000,000 loops each)\n"
     ]
    }
   ],
   "source": [
    "%timeit arr**2"
   ]
  },
  {
   "cell_type": "markdown",
   "id": "8a476b15",
   "metadata": {},
   "source": [
    "# Numpy Basics\n",
    "array : Fundamental element in numpy is homogenous array. Numpy Arrays can be 1D, 2D, 3D . . . nD\n",
    "\n",
    "- Different ways to create np array\n",
    "    1. np.array()\n",
    "    2. np.arange()"
   ]
  },
  {
   "cell_type": "code",
   "execution_count": 11,
   "id": "34404656",
   "metadata": {},
   "outputs": [
    {
     "data": {
      "text/plain": [
       "1"
      ]
     },
     "execution_count": 11,
     "metadata": {},
     "output_type": "execute_result"
    }
   ],
   "source": [
    "arr.ndim"
   ]
  },
  {
   "cell_type": "code",
   "execution_count": 12,
   "id": "0a780e06",
   "metadata": {},
   "outputs": [],
   "source": [
    "arr1=np.array([[2,4,1],[3,9,5]])"
   ]
  },
  {
   "cell_type": "code",
   "execution_count": 13,
   "id": "7018278e",
   "metadata": {},
   "outputs": [
    {
     "data": {
      "text/plain": [
       "array([[2, 4, 1],\n",
       "       [3, 9, 5]])"
      ]
     },
     "execution_count": 13,
     "metadata": {},
     "output_type": "execute_result"
    }
   ],
   "source": [
    "arr1"
   ]
  },
  {
   "cell_type": "code",
   "execution_count": 14,
   "id": "e0b809e6",
   "metadata": {},
   "outputs": [
    {
     "data": {
      "text/plain": [
       "2"
      ]
     },
     "execution_count": 14,
     "metadata": {},
     "output_type": "execute_result"
    }
   ],
   "source": [
    "arr1.ndim"
   ]
  },
  {
   "cell_type": "code",
   "execution_count": 15,
   "id": "e7e49d90",
   "metadata": {},
   "outputs": [
    {
     "data": {
      "text/plain": [
       "(2, 3)"
      ]
     },
     "execution_count": 15,
     "metadata": {},
     "output_type": "execute_result"
    }
   ],
   "source": [
    "arr1.shape"
   ]
  },
  {
   "cell_type": "code",
   "execution_count": 16,
   "id": "5efe1a97",
   "metadata": {},
   "outputs": [],
   "source": [
    "arr2=np.array([[[2,4],[4,5]],[[3,9],[6,7]]])"
   ]
  },
  {
   "cell_type": "code",
   "execution_count": 17,
   "id": "c07dc2d6",
   "metadata": {},
   "outputs": [
    {
     "data": {
      "text/plain": [
       "array([[[2, 4],\n",
       "        [4, 5]],\n",
       "\n",
       "       [[3, 9],\n",
       "        [6, 7]]])"
      ]
     },
     "execution_count": 17,
     "metadata": {},
     "output_type": "execute_result"
    }
   ],
   "source": [
    "arr2"
   ]
  },
  {
   "cell_type": "code",
   "execution_count": 18,
   "id": "54148889",
   "metadata": {},
   "outputs": [
    {
     "data": {
      "text/plain": [
       "3"
      ]
     },
     "execution_count": 18,
     "metadata": {},
     "output_type": "execute_result"
    }
   ],
   "source": [
    "arr2.ndim"
   ]
  },
  {
   "cell_type": "code",
   "execution_count": 19,
   "id": "c24512ca",
   "metadata": {},
   "outputs": [
    {
     "data": {
      "text/plain": [
       "(2, 2, 2)"
      ]
     },
     "execution_count": 19,
     "metadata": {},
     "output_type": "execute_result"
    }
   ],
   "source": [
    "arr2.shape"
   ]
  },
  {
   "cell_type": "markdown",
   "id": "b40993d7",
   "metadata": {},
   "source": [
    "# Another way of creating np array using arange method"
   ]
  },
  {
   "cell_type": "code",
   "execution_count": 20,
   "id": "8d52a0e5",
   "metadata": {},
   "outputs": [],
   "source": [
    "# Hint: work like range function\n",
    "new_arr=np.arange(16,0,-1)"
   ]
  },
  {
   "cell_type": "code",
   "execution_count": 21,
   "id": "cf4bc02e",
   "metadata": {},
   "outputs": [
    {
     "data": {
      "text/plain": [
       "array([16, 15, 14, 13, 12, 11, 10,  9,  8,  7,  6,  5,  4,  3,  2,  1])"
      ]
     },
     "execution_count": 21,
     "metadata": {},
     "output_type": "execute_result"
    }
   ],
   "source": [
    "new_arr"
   ]
  },
  {
   "cell_type": "code",
   "execution_count": 22,
   "id": "65bbb842",
   "metadata": {},
   "outputs": [
    {
     "data": {
      "text/plain": [
       "1"
      ]
     },
     "execution_count": 22,
     "metadata": {},
     "output_type": "execute_result"
    }
   ],
   "source": [
    "new_arr.ndim"
   ]
  },
  {
   "cell_type": "code",
   "execution_count": 23,
   "id": "47ef7cf2",
   "metadata": {},
   "outputs": [
    {
     "data": {
      "text/plain": [
       "16"
      ]
     },
     "execution_count": 23,
     "metadata": {},
     "output_type": "execute_result"
    }
   ],
   "source": [
    "len(new_arr)"
   ]
  },
  {
   "cell_type": "code",
   "execution_count": 24,
   "id": "31ed57c4",
   "metadata": {},
   "outputs": [],
   "source": [
    "new_arr=new_arr.reshape((2,2,2,2))"
   ]
  },
  {
   "cell_type": "code",
   "execution_count": 25,
   "id": "369ec32a",
   "metadata": {},
   "outputs": [
    {
     "data": {
      "text/plain": [
       "array([[[[16, 15],\n",
       "         [14, 13]],\n",
       "\n",
       "        [[12, 11],\n",
       "         [10,  9]]],\n",
       "\n",
       "\n",
       "       [[[ 8,  7],\n",
       "         [ 6,  5]],\n",
       "\n",
       "        [[ 4,  3],\n",
       "         [ 2,  1]]]])"
      ]
     },
     "execution_count": 25,
     "metadata": {},
     "output_type": "execute_result"
    }
   ],
   "source": [
    "new_arr"
   ]
  },
  {
   "cell_type": "code",
   "execution_count": 26,
   "id": "406b6e22",
   "metadata": {},
   "outputs": [
    {
     "data": {
      "text/plain": [
       "4"
      ]
     },
     "execution_count": 26,
     "metadata": {},
     "output_type": "execute_result"
    }
   ],
   "source": [
    "new_arr.ndim"
   ]
  },
  {
   "cell_type": "markdown",
   "id": "791a00a4",
   "metadata": {},
   "source": [
    "# Special Arrays in Numpy\n",
    "- zeros()\n",
    "- ones()\n",
    "- diag()\n",
    "- identity()"
   ]
  },
  {
   "cell_type": "code",
   "execution_count": 27,
   "id": "5aaef930",
   "metadata": {},
   "outputs": [
    {
     "data": {
      "text/plain": [
       "array([[0., 0., 0.],\n",
       "       [0., 0., 0.],\n",
       "       [0., 0., 0.]])"
      ]
     },
     "execution_count": 27,
     "metadata": {},
     "output_type": "execute_result"
    }
   ],
   "source": [
    "np.zeros((3,3))"
   ]
  },
  {
   "cell_type": "code",
   "execution_count": 28,
   "id": "03f4dc60",
   "metadata": {},
   "outputs": [
    {
     "data": {
      "text/plain": [
       "array([[1., 1., 1.],\n",
       "       [1., 1., 1.],\n",
       "       [1., 1., 1.],\n",
       "       [1., 1., 1.]])"
      ]
     },
     "execution_count": 28,
     "metadata": {},
     "output_type": "execute_result"
    }
   ],
   "source": [
    "np.ones((4,3))"
   ]
  },
  {
   "cell_type": "code",
   "execution_count": 29,
   "id": "718e19a3",
   "metadata": {},
   "outputs": [
    {
     "data": {
      "text/plain": [
       "array([[10,  0,  0],\n",
       "       [ 0,  2,  0],\n",
       "       [ 0,  0,  3]])"
      ]
     },
     "execution_count": 29,
     "metadata": {},
     "output_type": "execute_result"
    }
   ],
   "source": [
    "np.diag((10,2,3))"
   ]
  },
  {
   "cell_type": "code",
   "execution_count": 30,
   "id": "20cc2664",
   "metadata": {},
   "outputs": [
    {
     "data": {
      "text/plain": [
       "array([[1., 0., 0., 0.],\n",
       "       [0., 1., 0., 0.],\n",
       "       [0., 0., 1., 0.],\n",
       "       [0., 0., 0., 1.]])"
      ]
     },
     "execution_count": 30,
     "metadata": {},
     "output_type": "execute_result"
    }
   ],
   "source": [
    "np.identity(4)"
   ]
  },
  {
   "cell_type": "code",
   "execution_count": null,
   "id": "2344c09b",
   "metadata": {},
   "outputs": [],
   "source": []
  },
  {
   "cell_type": "markdown",
   "id": "1d267d9e",
   "metadata": {},
   "source": [
    "# Indexing in Array"
   ]
  },
  {
   "cell_type": "code",
   "execution_count": 31,
   "id": "f642574c",
   "metadata": {},
   "outputs": [
    {
     "data": {
      "text/plain": [
       "array([[[[16, 15],\n",
       "         [14, 13]],\n",
       "\n",
       "        [[12, 11],\n",
       "         [10,  9]]],\n",
       "\n",
       "\n",
       "       [[[ 8,  7],\n",
       "         [ 6,  5]],\n",
       "\n",
       "        [[ 4,  3],\n",
       "         [ 2,  1]]]])"
      ]
     },
     "execution_count": 31,
     "metadata": {},
     "output_type": "execute_result"
    }
   ],
   "source": [
    "new_arr"
   ]
  },
  {
   "cell_type": "code",
   "execution_count": 32,
   "id": "694b2131",
   "metadata": {},
   "outputs": [
    {
     "data": {
      "text/plain": [
       "4"
      ]
     },
     "execution_count": 32,
     "metadata": {},
     "output_type": "execute_result"
    }
   ],
   "source": [
    "new_arr[1][1][0][0]"
   ]
  },
  {
   "cell_type": "code",
   "execution_count": 33,
   "id": "cd4acc41",
   "metadata": {},
   "outputs": [
    {
     "data": {
      "text/plain": [
       "4"
      ]
     },
     "execution_count": 33,
     "metadata": {},
     "output_type": "execute_result"
    }
   ],
   "source": [
    "new_arr[1,1,0,0]"
   ]
  },
  {
   "cell_type": "code",
   "execution_count": 34,
   "id": "587059dd",
   "metadata": {},
   "outputs": [
    {
     "data": {
      "text/plain": [
       "array([[12, 11],\n",
       "       [10,  9]])"
      ]
     },
     "execution_count": 34,
     "metadata": {},
     "output_type": "execute_result"
    }
   ],
   "source": [
    "new_arr[0][1]"
   ]
  },
  {
   "cell_type": "code",
   "execution_count": 35,
   "id": "ad7b6c7b",
   "metadata": {},
   "outputs": [],
   "source": [
    "arr= np.array([[2,3,4],[5,6,7],[8,9,10]])"
   ]
  },
  {
   "cell_type": "code",
   "execution_count": 36,
   "id": "1afa10c8",
   "metadata": {},
   "outputs": [
    {
     "data": {
      "text/plain": [
       "array([[ 2,  3,  4],\n",
       "       [ 5,  6,  7],\n",
       "       [ 8,  9, 10]])"
      ]
     },
     "execution_count": 36,
     "metadata": {},
     "output_type": "execute_result"
    }
   ],
   "source": [
    "arr"
   ]
  },
  {
   "cell_type": "code",
   "execution_count": 37,
   "id": "0ddc53c6",
   "metadata": {},
   "outputs": [
    {
     "data": {
      "text/plain": [
       "6"
      ]
     },
     "execution_count": 37,
     "metadata": {},
     "output_type": "execute_result"
    }
   ],
   "source": [
    "arr[1][1]"
   ]
  },
  {
   "cell_type": "code",
   "execution_count": 38,
   "id": "60152207",
   "metadata": {},
   "outputs": [
    {
     "data": {
      "text/plain": [
       "10"
      ]
     },
     "execution_count": 38,
     "metadata": {},
     "output_type": "execute_result"
    }
   ],
   "source": [
    "arr[-1,-1]"
   ]
  },
  {
   "cell_type": "code",
   "execution_count": 39,
   "id": "6c6e979a",
   "metadata": {},
   "outputs": [
    {
     "data": {
      "text/plain": [
       "array([[4, 3],\n",
       "       [2, 1]])"
      ]
     },
     "execution_count": 39,
     "metadata": {},
     "output_type": "execute_result"
    }
   ],
   "source": [
    "new_arr[-1][-1]"
   ]
  },
  {
   "cell_type": "code",
   "execution_count": 40,
   "id": "a0726e62",
   "metadata": {},
   "outputs": [
    {
     "data": {
      "text/plain": [
       "array([[16, 15],\n",
       "       [14, 13]])"
      ]
     },
     "execution_count": 40,
     "metadata": {},
     "output_type": "execute_result"
    }
   ],
   "source": [
    "new_arr[0,-2]     #arr[row,column]"
   ]
  },
  {
   "cell_type": "code",
   "execution_count": 41,
   "id": "94c6569e",
   "metadata": {},
   "outputs": [
    {
     "data": {
      "text/plain": [
       "array([[4, 3],\n",
       "       [2, 1]])"
      ]
     },
     "execution_count": 41,
     "metadata": {},
     "output_type": "execute_result"
    }
   ],
   "source": [
    "new_arr[-1,-1]"
   ]
  },
  {
   "cell_type": "markdown",
   "id": "3533d539",
   "metadata": {},
   "source": [
    "# Array slicing"
   ]
  },
  {
   "cell_type": "raw",
   "id": "5cadadf6",
   "metadata": {},
   "source": [
    "arr[ start_row_idx : end_row_idx + 1, start_col_idx : end_col_idx+1]"
   ]
  },
  {
   "cell_type": "code",
   "execution_count": 42,
   "id": "cd030bef",
   "metadata": {},
   "outputs": [
    {
     "data": {
      "text/plain": [
       "array([[ 2,  3,  4],\n",
       "       [ 5,  6,  7],\n",
       "       [ 8,  9, 10]])"
      ]
     },
     "execution_count": 42,
     "metadata": {},
     "output_type": "execute_result"
    }
   ],
   "source": [
    "arr"
   ]
  },
  {
   "cell_type": "code",
   "execution_count": 43,
   "id": "ed2ac184",
   "metadata": {},
   "outputs": [
    {
     "data": {
      "text/plain": [
       "array([[2, 3],\n",
       "       [5, 6]])"
      ]
     },
     "execution_count": 43,
     "metadata": {},
     "output_type": "execute_result"
    }
   ],
   "source": [
    "arr[0:2,:2]"
   ]
  },
  {
   "cell_type": "code",
   "execution_count": 44,
   "id": "bc8b9870",
   "metadata": {},
   "outputs": [
    {
     "data": {
      "text/plain": [
       "array([[5, 6],\n",
       "       [2, 3]])"
      ]
     },
     "execution_count": 44,
     "metadata": {},
     "output_type": "execute_result"
    }
   ],
   "source": [
    "arr[-2::-1,:2]"
   ]
  },
  {
   "cell_type": "code",
   "execution_count": 45,
   "id": "abd48a0f",
   "metadata": {},
   "outputs": [
    {
     "data": {
      "text/plain": [
       "array([[ 2,  3,  4],\n",
       "       [ 5,  6,  7],\n",
       "       [ 8,  9, 10]])"
      ]
     },
     "execution_count": 45,
     "metadata": {},
     "output_type": "execute_result"
    }
   ],
   "source": [
    "arr"
   ]
  },
  {
   "cell_type": "code",
   "execution_count": 46,
   "id": "cedb47b3",
   "metadata": {},
   "outputs": [
    {
     "data": {
      "text/plain": [
       "array([3, 6, 9])"
      ]
     },
     "execution_count": 46,
     "metadata": {},
     "output_type": "execute_result"
    }
   ],
   "source": [
    "# second column values\n",
    "\n",
    "arr[:,-2]"
   ]
  },
  {
   "cell_type": "code",
   "execution_count": 60,
   "id": "f301085b",
   "metadata": {},
   "outputs": [],
   "source": [
    "arr=np.array([[ 90,  3,  4],\n",
    "       [ 5,  6,  7],\n",
    "       [ 8,  9, 0]])"
   ]
  },
  {
   "cell_type": "code",
   "execution_count": 61,
   "id": "c0f065b7",
   "metadata": {},
   "outputs": [
    {
     "data": {
      "text/plain": [
       "array([[ True, False, False],\n",
       "       [False, False,  True],\n",
       "       [ True,  True, False]])"
      ]
     },
     "execution_count": 61,
     "metadata": {},
     "output_type": "execute_result"
    }
   ],
   "source": [
    "arr>6"
   ]
  },
  {
   "cell_type": "code",
   "execution_count": 64,
   "id": "2d8cd472",
   "metadata": {},
   "outputs": [
    {
     "data": {
      "text/plain": [
       "array([90,  4,  6,  7,  8,  9,  0])"
      ]
     },
     "execution_count": 64,
     "metadata": {},
     "output_type": "execute_result"
    }
   ],
   "source": [
    "arr[(arr>6) | (arr%2==0) ]"
   ]
  },
  {
   "cell_type": "code",
   "execution_count": 53,
   "id": "b7a4edb5",
   "metadata": {},
   "outputs": [
    {
     "data": {
      "text/plain": [
       "array([[0.69314718, 1.09861229, 1.38629436],\n",
       "       [1.60943791, 1.79175947, 1.94591015],\n",
       "       [2.07944154, 2.19722458, 2.30258509]])"
      ]
     },
     "execution_count": 53,
     "metadata": {},
     "output_type": "execute_result"
    }
   ],
   "source": [
    "np.log(arr)"
   ]
  },
  {
   "cell_type": "code",
   "execution_count": 56,
   "id": "6a01890f",
   "metadata": {},
   "outputs": [
    {
     "data": {
      "text/plain": [
       "array([[ 0.89399666,  0.14112001, -0.7568025 ],\n",
       "       [-0.95892427, -0.2794155 ,  0.6569866 ],\n",
       "       [ 0.98935825,  0.41211849,  0.        ]])"
      ]
     },
     "execution_count": 56,
     "metadata": {},
     "output_type": "execute_result"
    }
   ],
   "source": [
    "np.sin(arr)"
   ]
  },
  {
   "cell_type": "code",
   "execution_count": 57,
   "id": "dae0d19a",
   "metadata": {},
   "outputs": [
    {
     "data": {
      "text/plain": [
       "0.8939966636005579"
      ]
     },
     "execution_count": 57,
     "metadata": {},
     "output_type": "execute_result"
    }
   ],
   "source": [
    "np.sin(90)"
   ]
  },
  {
   "cell_type": "code",
   "execution_count": 58,
   "id": "31f1250b",
   "metadata": {},
   "outputs": [
    {
     "data": {
      "text/plain": [
       "-0.4480736161291701"
      ]
     },
     "execution_count": 58,
     "metadata": {},
     "output_type": "execute_result"
    }
   ],
   "source": [
    "np.cos(90)"
   ]
  },
  {
   "cell_type": "code",
   "execution_count": 75,
   "id": "8f62e010",
   "metadata": {},
   "outputs": [
    {
     "data": {
      "text/plain": [
       "array([[9.48683298, 1.73205081, 2.        ],\n",
       "       [2.23606798, 2.44948974, 2.64575131],\n",
       "       [2.82842712, 3.        , 0.        ]])"
      ]
     },
     "execution_count": 75,
     "metadata": {},
     "output_type": "execute_result"
    }
   ],
   "source": [
    "np.sqrt(arr)"
   ]
  },
  {
   "cell_type": "code",
   "execution_count": 76,
   "id": "85084a75",
   "metadata": {},
   "outputs": [
    {
     "data": {
      "text/plain": [
       "array([[4.48140475, 1.44224957, 1.58740105],\n",
       "       [1.70997595, 1.81712059, 1.91293118],\n",
       "       [2.        , 2.08008382, 0.        ]])"
      ]
     },
     "execution_count": 76,
     "metadata": {},
     "output_type": "execute_result"
    }
   ],
   "source": [
    "np.cbrt(arr)"
   ]
  },
  {
   "cell_type": "code",
   "execution_count": 78,
   "id": "5cd97bdd",
   "metadata": {},
   "outputs": [
    {
     "data": {
      "text/plain": [
       "array([[90,  3,  4],\n",
       "       [ 5,  6,  7],\n",
       "       [ 8,  9,  0]])"
      ]
     },
     "execution_count": 78,
     "metadata": {},
     "output_type": "execute_result"
    }
   ],
   "source": [
    "arr"
   ]
  },
  {
   "cell_type": "code",
   "execution_count": 80,
   "id": "d8758579",
   "metadata": {},
   "outputs": [
    {
     "data": {
      "text/plain": [
       "103"
      ]
     },
     "execution_count": 80,
     "metadata": {},
     "output_type": "execute_result"
    }
   ],
   "source": [
    "np.sum(arr[:,0])"
   ]
  },
  {
   "cell_type": "code",
   "execution_count": 86,
   "id": "f1c17f5f",
   "metadata": {},
   "outputs": [
    {
     "data": {
      "text/plain": [
       "array([97, 18, 17])"
      ]
     },
     "execution_count": 86,
     "metadata": {},
     "output_type": "execute_result"
    }
   ],
   "source": [
    "np.sum(arr, axis=1)"
   ]
  },
  {
   "cell_type": "code",
   "execution_count": 81,
   "id": "5bc25b08",
   "metadata": {},
   "outputs": [
    {
     "data": {
      "text/plain": [
       "14.666666666666666"
      ]
     },
     "execution_count": 81,
     "metadata": {},
     "output_type": "execute_result"
    }
   ],
   "source": [
    "np.mean(arr)"
   ]
  },
  {
   "cell_type": "code",
   "execution_count": 82,
   "id": "2cfaecd5",
   "metadata": {},
   "outputs": [
    {
     "data": {
      "text/plain": [
       "90"
      ]
     },
     "execution_count": 82,
     "metadata": {},
     "output_type": "execute_result"
    }
   ],
   "source": [
    "np.max(arr)"
   ]
  },
  {
   "cell_type": "code",
   "execution_count": 83,
   "id": "40664462",
   "metadata": {},
   "outputs": [
    {
     "data": {
      "text/plain": [
       "0"
      ]
     },
     "execution_count": 83,
     "metadata": {},
     "output_type": "execute_result"
    }
   ],
   "source": [
    "np.min(arr)"
   ]
  },
  {
   "cell_type": "code",
   "execution_count": 84,
   "id": "0205c953",
   "metadata": {},
   "outputs": [
    {
     "data": {
      "text/plain": [
       "26.758176320519304"
      ]
     },
     "execution_count": 84,
     "metadata": {},
     "output_type": "execute_result"
    }
   ],
   "source": [
    "np.std(arr)"
   ]
  },
  {
   "cell_type": "code",
   "execution_count": null,
   "id": "fad15fdf",
   "metadata": {},
   "outputs": [],
   "source": []
  },
  {
   "cell_type": "code",
   "execution_count": null,
   "id": "5f8ee87b",
   "metadata": {},
   "outputs": [],
   "source": []
  },
  {
   "cell_type": "markdown",
   "id": "19e085fb",
   "metadata": {},
   "source": [
    "# Matrix Product"
   ]
  },
  {
   "cell_type": "code",
   "execution_count": 66,
   "id": "0a43fe8e",
   "metadata": {},
   "outputs": [],
   "source": [
    "A= np.random.randint(0,5,(3,4))\n",
    "B= np.random.randint(0,5,(4,2))"
   ]
  },
  {
   "cell_type": "code",
   "execution_count": 67,
   "id": "c9ce0a18",
   "metadata": {},
   "outputs": [
    {
     "data": {
      "text/plain": [
       "array([[0, 4, 0, 2],\n",
       "       [0, 1, 0, 2],\n",
       "       [2, 0, 3, 1]])"
      ]
     },
     "execution_count": 67,
     "metadata": {},
     "output_type": "execute_result"
    }
   ],
   "source": [
    "A"
   ]
  },
  {
   "cell_type": "code",
   "execution_count": 68,
   "id": "06c1a9b7",
   "metadata": {},
   "outputs": [
    {
     "data": {
      "text/plain": [
       "array([[4, 4],\n",
       "       [2, 3],\n",
       "       [4, 2],\n",
       "       [1, 0]])"
      ]
     },
     "execution_count": 68,
     "metadata": {},
     "output_type": "execute_result"
    }
   ],
   "source": [
    "B"
   ]
  },
  {
   "cell_type": "code",
   "execution_count": 69,
   "id": "b32c2dca",
   "metadata": {},
   "outputs": [
    {
     "data": {
      "text/plain": [
       "array([[10, 12],\n",
       "       [ 4,  3],\n",
       "       [21, 14]])"
      ]
     },
     "execution_count": 69,
     "metadata": {},
     "output_type": "execute_result"
    }
   ],
   "source": [
    "np.dot(A,B)"
   ]
  },
  {
   "cell_type": "markdown",
   "id": "ae8e4f91",
   "metadata": {},
   "source": [
    "# More Operations on Arrays"
   ]
  },
  {
   "cell_type": "code",
   "execution_count": 70,
   "id": "a78bb044",
   "metadata": {},
   "outputs": [],
   "source": [
    "A = np.arange(24)"
   ]
  },
  {
   "cell_type": "code",
   "execution_count": 71,
   "id": "7b624415",
   "metadata": {},
   "outputs": [
    {
     "data": {
      "text/plain": [
       "array([ 0,  1,  2,  3,  4,  5,  6,  7,  8,  9, 10, 11, 12, 13, 14, 15, 16,\n",
       "       17, 18, 19, 20, 21, 22, 23])"
      ]
     },
     "execution_count": 71,
     "metadata": {},
     "output_type": "execute_result"
    }
   ],
   "source": [
    "A"
   ]
  },
  {
   "cell_type": "code",
   "execution_count": 73,
   "id": "065ffa0d",
   "metadata": {},
   "outputs": [],
   "source": [
    "A=A.reshape((6,4))"
   ]
  },
  {
   "cell_type": "code",
   "execution_count": 74,
   "id": "14921f18",
   "metadata": {},
   "outputs": [
    {
     "data": {
      "text/plain": [
       "array([[ 0,  1,  2,  3],\n",
       "       [ 4,  5,  6,  7],\n",
       "       [ 8,  9, 10, 11],\n",
       "       [12, 13, 14, 15],\n",
       "       [16, 17, 18, 19],\n",
       "       [20, 21, 22, 23]])"
      ]
     },
     "execution_count": 74,
     "metadata": {},
     "output_type": "execute_result"
    }
   ],
   "source": [
    "A"
   ]
  },
  {
   "cell_type": "markdown",
   "id": "e25f7bf2",
   "metadata": {},
   "source": [
    "# Shape Manipulation"
   ]
  },
  {
   "cell_type": "code",
   "execution_count": 87,
   "id": "9e2ee4fa",
   "metadata": {},
   "outputs": [
    {
     "data": {
      "text/plain": [
       "array([[ 0,  1,  2,  3],\n",
       "       [ 4,  5,  6,  7],\n",
       "       [ 8,  9, 10, 11],\n",
       "       [12, 13, 14, 15],\n",
       "       [16, 17, 18, 19],\n",
       "       [20, 21, 22, 23]])"
      ]
     },
     "execution_count": 87,
     "metadata": {},
     "output_type": "execute_result"
    }
   ],
   "source": [
    "A"
   ]
  },
  {
   "cell_type": "code",
   "execution_count": 88,
   "id": "e47c6ab6",
   "metadata": {},
   "outputs": [
    {
     "data": {
      "text/plain": [
       "array([ 0,  1,  2,  3,  4,  5,  6,  7,  8,  9, 10, 11, 12, 13, 14, 15, 16,\n",
       "       17, 18, 19, 20, 21, 22, 23])"
      ]
     },
     "execution_count": 88,
     "metadata": {},
     "output_type": "execute_result"
    }
   ],
   "source": [
    "A.flatten()"
   ]
  },
  {
   "cell_type": "code",
   "execution_count": 89,
   "id": "235dd10d",
   "metadata": {},
   "outputs": [
    {
     "data": {
      "text/plain": [
       "array([[ 0,  4,  8, 12, 16, 20],\n",
       "       [ 1,  5,  9, 13, 17, 21],\n",
       "       [ 2,  6, 10, 14, 18, 22],\n",
       "       [ 3,  7, 11, 15, 19, 23]])"
      ]
     },
     "execution_count": 89,
     "metadata": {},
     "output_type": "execute_result"
    }
   ],
   "source": [
    "A.T"
   ]
  },
  {
   "cell_type": "code",
   "execution_count": 90,
   "id": "8290c5a5",
   "metadata": {},
   "outputs": [
    {
     "data": {
      "text/plain": [
       "array([[ 0,  4,  8, 12, 16, 20],\n",
       "       [ 1,  5,  9, 13, 17, 21],\n",
       "       [ 2,  6, 10, 14, 18, 22],\n",
       "       [ 3,  7, 11, 15, 19, 23]])"
      ]
     },
     "execution_count": 90,
     "metadata": {},
     "output_type": "execute_result"
    }
   ],
   "source": [
    "np.transpose(A)"
   ]
  },
  {
   "cell_type": "code",
   "execution_count": 99,
   "id": "2a218df1",
   "metadata": {},
   "outputs": [],
   "source": [
    "a = np.random.randint(0,10,(2,2))\n",
    "b = np.random.randint(0,10,(3,2))\n",
    "c = np.random.randint(0,5,(3,5))"
   ]
  },
  {
   "cell_type": "code",
   "execution_count": 92,
   "id": "7ce4b1ca",
   "metadata": {},
   "outputs": [
    {
     "data": {
      "text/plain": [
       "array([[5, 6],\n",
       "       [9, 0]])"
      ]
     },
     "execution_count": 92,
     "metadata": {},
     "output_type": "execute_result"
    }
   ],
   "source": [
    "a"
   ]
  },
  {
   "cell_type": "code",
   "execution_count": 93,
   "id": "1035e2ee",
   "metadata": {},
   "outputs": [
    {
     "data": {
      "text/plain": [
       "array([[9, 3],\n",
       "       [0, 1],\n",
       "       [8, 8]])"
      ]
     },
     "execution_count": 93,
     "metadata": {},
     "output_type": "execute_result"
    }
   ],
   "source": [
    "b"
   ]
  },
  {
   "cell_type": "code",
   "execution_count": 94,
   "id": "f95dbc00",
   "metadata": {},
   "outputs": [
    {
     "data": {
      "text/plain": [
       "array([[3, 1, 0, 1, 3],\n",
       "       [0, 1, 4, 0, 0],\n",
       "       [0, 0, 3, 2, 0]])"
      ]
     },
     "execution_count": 94,
     "metadata": {},
     "output_type": "execute_result"
    }
   ],
   "source": [
    "c"
   ]
  },
  {
   "cell_type": "code",
   "execution_count": 95,
   "id": "8090509c",
   "metadata": {},
   "outputs": [
    {
     "data": {
      "text/plain": [
       "array([[5, 6],\n",
       "       [9, 0],\n",
       "       [9, 3],\n",
       "       [0, 1],\n",
       "       [8, 8]])"
      ]
     },
     "execution_count": 95,
     "metadata": {},
     "output_type": "execute_result"
    }
   ],
   "source": [
    "np.vstack((a,b))"
   ]
  },
  {
   "cell_type": "code",
   "execution_count": 100,
   "id": "75e8dc66",
   "metadata": {},
   "outputs": [
    {
     "data": {
      "text/plain": [
       "array([[3, 0, 0, 2, 3, 1, 4],\n",
       "       [0, 9, 4, 1, 4, 4, 2],\n",
       "       [9, 1, 4, 2, 1, 3, 3]])"
      ]
     },
     "execution_count": 100,
     "metadata": {},
     "output_type": "execute_result"
    }
   ],
   "source": [
    "np.hstack((b,c))"
   ]
  },
  {
   "cell_type": "markdown",
   "id": "c2e819d0",
   "metadata": {},
   "source": [
    "# Broadcasting\n",
    "- First Rule of Numpy : 2 Arrays can performs opertions only when they have same shapes\n",
    "- broadcasting let two arrays of different shapes to do some operations.\n",
    "    - A small array will repeat itself, and convert to the same shape as of another array"
   ]
  },
  {
   "cell_type": "code",
   "execution_count": 118,
   "id": "854aa2e5",
   "metadata": {},
   "outputs": [],
   "source": [
    "A = np.random.randint(5, 10, size=(3,3))\n",
    "B = np.random.randint(0, 5, size=(3,3))\n",
    "a = np.array([[1,2,3]]) "
   ]
  },
  {
   "cell_type": "code",
   "execution_count": 111,
   "id": "2064cada",
   "metadata": {},
   "outputs": [
    {
     "data": {
      "text/plain": [
       "array([[5, 9, 6],\n",
       "       [5, 5, 7],\n",
       "       [9, 8, 6]])"
      ]
     },
     "execution_count": 111,
     "metadata": {},
     "output_type": "execute_result"
    }
   ],
   "source": [
    "A"
   ]
  },
  {
   "cell_type": "code",
   "execution_count": 112,
   "id": "0592d221",
   "metadata": {},
   "outputs": [
    {
     "data": {
      "text/plain": [
       "array([[3, 4, 1],\n",
       "       [4, 4, 4],\n",
       "       [3, 1, 4]])"
      ]
     },
     "execution_count": 112,
     "metadata": {},
     "output_type": "execute_result"
    }
   ],
   "source": [
    "B"
   ]
  },
  {
   "cell_type": "code",
   "execution_count": 113,
   "id": "81096c6c",
   "metadata": {},
   "outputs": [
    {
     "data": {
      "text/plain": [
       "array([[ 8, 13,  7],\n",
       "       [ 9,  9, 11],\n",
       "       [12,  9, 10]])"
      ]
     },
     "execution_count": 113,
     "metadata": {},
     "output_type": "execute_result"
    }
   ],
   "source": [
    "A+B"
   ]
  },
  {
   "cell_type": "code",
   "execution_count": 114,
   "id": "77e19e8d",
   "metadata": {},
   "outputs": [
    {
     "data": {
      "text/plain": [
       "array([[2, 5, 5],\n",
       "       [1, 1, 3],\n",
       "       [6, 7, 2]])"
      ]
     },
     "execution_count": 114,
     "metadata": {},
     "output_type": "execute_result"
    }
   ],
   "source": [
    "A-B"
   ]
  },
  {
   "cell_type": "code",
   "execution_count": 115,
   "id": "e2efd23a",
   "metadata": {},
   "outputs": [
    {
     "data": {
      "text/plain": [
       "array([[15, 36,  6],\n",
       "       [20, 20, 28],\n",
       "       [27,  8, 24]])"
      ]
     },
     "execution_count": 115,
     "metadata": {},
     "output_type": "execute_result"
    }
   ],
   "source": [
    "A*B"
   ]
  },
  {
   "cell_type": "code",
   "execution_count": 117,
   "id": "0c67b6ec",
   "metadata": {},
   "outputs": [
    {
     "data": {
      "text/plain": [
       "array([[69, 62, 65],\n",
       "       [56, 47, 53],\n",
       "       [77, 74, 65]])"
      ]
     },
     "execution_count": 117,
     "metadata": {},
     "output_type": "execute_result"
    }
   ],
   "source": [
    "A.dot(B)"
   ]
  },
  {
   "cell_type": "code",
   "execution_count": 119,
   "id": "060473f9",
   "metadata": {},
   "outputs": [
    {
     "data": {
      "text/plain": [
       "array([[1],\n",
       "       [2],\n",
       "       [3]])"
      ]
     },
     "execution_count": 119,
     "metadata": {},
     "output_type": "execute_result"
    }
   ],
   "source": [
    "a.T"
   ]
  },
  {
   "cell_type": "code",
   "execution_count": 124,
   "id": "ae5b798d",
   "metadata": {},
   "outputs": [
    {
     "data": {
      "text/plain": [
       "array([[8, 8, 5],\n",
       "       [8, 6, 6],\n",
       "       [9, 7, 8]])"
      ]
     },
     "execution_count": 124,
     "metadata": {},
     "output_type": "execute_result"
    }
   ],
   "source": [
    "A"
   ]
  },
  {
   "cell_type": "code",
   "execution_count": 123,
   "id": "8854030b",
   "metadata": {},
   "outputs": [
    {
     "data": {
      "text/plain": [
       "array([[1, 2, 3]])"
      ]
     },
     "execution_count": 123,
     "metadata": {},
     "output_type": "execute_result"
    }
   ],
   "source": [
    "a"
   ]
  },
  {
   "cell_type": "code",
   "execution_count": 122,
   "id": "b40b88f5",
   "metadata": {},
   "outputs": [
    {
     "data": {
      "text/plain": [
       "array([[ 9, 10,  8],\n",
       "       [ 9,  8,  9],\n",
       "       [10,  9, 11]])"
      ]
     },
     "execution_count": 122,
     "metadata": {},
     "output_type": "execute_result"
    }
   ],
   "source": [
    "A +a"
   ]
  },
  {
   "cell_type": "code",
   "execution_count": 120,
   "id": "8ea4f2ae",
   "metadata": {},
   "outputs": [
    {
     "data": {
      "text/plain": [
       "array([[ 9,  9,  6],\n",
       "       [10,  8,  8],\n",
       "       [12, 10, 11]])"
      ]
     },
     "execution_count": 120,
     "metadata": {},
     "output_type": "execute_result"
    }
   ],
   "source": [
    "A +a.T"
   ]
  },
  {
   "cell_type": "markdown",
   "id": "f7ef4aa0",
   "metadata": {},
   "source": [
    "# Vectorization\n",
    "- performing operations directly on Arrays"
   ]
  },
  {
   "cell_type": "code",
   "execution_count": 125,
   "id": "90c16330",
   "metadata": {},
   "outputs": [],
   "source": [
    "p1 = np.array([1,2, 4, 7, -2, 9, 6, 0])\n",
    "p2 = np.array([5,5, 8, 2, -9, 2, 1, 6])"
   ]
  },
  {
   "cell_type": "code",
   "execution_count": 129,
   "id": "8584569a",
   "metadata": {},
   "outputs": [
    {
     "data": {
      "text/plain": [
       "15.0"
      ]
     },
     "execution_count": 129,
     "metadata": {},
     "output_type": "execute_result"
    }
   ],
   "source": [
    "(np.sum((p2-p1)**2))**0.5"
   ]
  },
  {
   "cell_type": "markdown",
   "id": "55cf32fe",
   "metadata": {},
   "source": [
    "# Challenges:\n",
    "sqrt(∑ ( a - b )**2)"
   ]
  },
  {
   "cell_type": "markdown",
   "id": "e47c270b",
   "metadata": {},
   "source": [
    "# Homework:\n",
    "Research on add and append function on numpy"
   ]
  },
  {
   "cell_type": "code",
   "execution_count": null,
   "id": "f63cc04e",
   "metadata": {},
   "outputs": [],
   "source": []
  }
 ],
 "metadata": {
  "kernelspec": {
   "display_name": "Python 3 (ipykernel)",
   "language": "python",
   "name": "python3"
  },
  "language_info": {
   "codemirror_mode": {
    "name": "ipython",
    "version": 3
   },
   "file_extension": ".py",
   "mimetype": "text/x-python",
   "name": "python",
   "nbconvert_exporter": "python",
   "pygments_lexer": "ipython3",
   "version": "3.11.5"
  }
 },
 "nbformat": 4,
 "nbformat_minor": 5
}
